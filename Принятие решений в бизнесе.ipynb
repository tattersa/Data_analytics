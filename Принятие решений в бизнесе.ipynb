{
 "cells": [
  {
   "cell_type": "markdown",
   "metadata": {},
   "source": [
    "# Принятие решений в бизнесе"
   ]
  },
  {
   "cell_type": "markdown",
   "metadata": {},
   "source": [
    "## Описание проекта"
   ]
  },
  {
   "cell_type": "markdown",
   "metadata": {},
   "source": [
    "<ins>Контекст</ins>:\n",
    "\n",
    "Вы — аналитик крупного интернет-магазина. Вместе с отделом маркетинга вы подготовили список гипотез для увеличения выручки.\n",
    "Приоритизируйте гипотезы, запустите A/B-тест и проанализируйте результаты.\n",
    "\n",
    "<ins>Структура предоставленных данных</ins>:\n",
    "- Структура **hypothesis.csv**:\n",
    "    - *Hypothesis* — краткое описание гипотезы;\n",
    "    - *Reach* — охват пользователей по 10-балльной шкале;\n",
    "    - *Impact* — влияние на пользователей по 10-балльной шкале;\n",
    "    - *Confidence* — уверенность в гипотезе по 10-балльной шкале;\n",
    "    - *Efforts* — затраты ресурсов на проверку гипотезы по 10-балльной шкале. Чем больше значение Efforts, тем дороже проверка гипотезы.\n",
    "- Структура **orders.csv**:\n",
    "    - *transactionId* — идентификатор заказа;\n",
    "    - *visitorId* — идентификатор пользователя, совершившего заказ;\n",
    "    - *date* — дата, когда был совершён заказ;\n",
    "    - *revenue* — выручка заказа;\n",
    "    - *group* — группа A/B-теста, в которую попал заказ.\n",
    "- Структура **visitors.csv**:\n",
    "    - *date* — дата;\n",
    "    - *group* — группа A/B-теста;\n",
    "    - *visitors* — количество пользователей в указанную дату в указанной группе A/B-теста\n",
    "\n",
    "<ins>Предварительный план решения</ins>:\n",
    "1. Выполнить обзор данных;\n",
    "2. Предобработать данные;\n",
    "3. При помощи фреймворков ICE и RICE приоретизировать список гипотез и определить лучшую гипотезу для тестирования;\n",
    "4. Проанализировать результаты A/B теста;\n",
    "5. Сделать финальный вывод."
   ]
  },
  {
   "cell_type": "markdown",
   "metadata": {},
   "source": [
    "## 1. Обзор данных:"
   ]
  },
  {
   "cell_type": "code",
   "execution_count": 1,
   "metadata": {},
   "outputs": [],
   "source": [
    "# Подключаем необходимые библиотеки:\n",
    "import pandas as pd\n",
    "import numpy as np\n",
    "from matplotlib import pyplot as plt\n",
    "import datetime as dt\n",
    "import scipy.stats as st"
   ]
  },
  {
   "cell_type": "code",
   "execution_count": 2,
   "metadata": {},
   "outputs": [],
   "source": [
    "# Считываем полученные данные:\n",
    "try:\n",
    "    hypothesis = pd.read_csv('hypothesis.csv')\n",
    "    orders = pd.read_csv('orders.csv')\n",
    "    visitors = pd.read_csv('visitors.csv')\n",
    "except:\n",
    "    hypothesis = pd.read_csv('/datasets/hypothesis.csv')\n",
    "    orders = pd.read_csv('/datasets/orders.csv')\n",
    "    visitors = pd.read_csv('/datasets/visitors.csv')  "
   ]
  },
  {
   "cell_type": "code",
   "execution_count": 3,
   "metadata": {},
   "outputs": [
    {
     "data": {
      "text/html": [
       "<div>\n",
       "<style scoped>\n",
       "    .dataframe tbody tr th:only-of-type {\n",
       "        vertical-align: middle;\n",
       "    }\n",
       "\n",
       "    .dataframe tbody tr th {\n",
       "        vertical-align: top;\n",
       "    }\n",
       "\n",
       "    .dataframe thead th {\n",
       "        text-align: right;\n",
       "    }\n",
       "</style>\n",
       "<table border=\"1\" class=\"dataframe\">\n",
       "  <thead>\n",
       "    <tr style=\"text-align: right;\">\n",
       "      <th></th>\n",
       "      <th>Hypothesis</th>\n",
       "      <th>Reach</th>\n",
       "      <th>Impact</th>\n",
       "      <th>Confidence</th>\n",
       "      <th>Efforts</th>\n",
       "    </tr>\n",
       "  </thead>\n",
       "  <tbody>\n",
       "    <tr>\n",
       "      <th>0</th>\n",
       "      <td>Добавить два новых канала привлечения трафика,...</td>\n",
       "      <td>3</td>\n",
       "      <td>10</td>\n",
       "      <td>8</td>\n",
       "      <td>6</td>\n",
       "    </tr>\n",
       "    <tr>\n",
       "      <th>1</th>\n",
       "      <td>Запустить собственную службу доставки, что сок...</td>\n",
       "      <td>2</td>\n",
       "      <td>5</td>\n",
       "      <td>4</td>\n",
       "      <td>10</td>\n",
       "    </tr>\n",
       "    <tr>\n",
       "      <th>2</th>\n",
       "      <td>Добавить блоки рекомендаций товаров на сайт ин...</td>\n",
       "      <td>8</td>\n",
       "      <td>3</td>\n",
       "      <td>7</td>\n",
       "      <td>3</td>\n",
       "    </tr>\n",
       "    <tr>\n",
       "      <th>3</th>\n",
       "      <td>Изменить структура категорий, что увеличит кон...</td>\n",
       "      <td>8</td>\n",
       "      <td>3</td>\n",
       "      <td>3</td>\n",
       "      <td>8</td>\n",
       "    </tr>\n",
       "    <tr>\n",
       "      <th>4</th>\n",
       "      <td>Изменить цвет фона главной страницы, чтобы уве...</td>\n",
       "      <td>3</td>\n",
       "      <td>1</td>\n",
       "      <td>1</td>\n",
       "      <td>1</td>\n",
       "    </tr>\n",
       "  </tbody>\n",
       "</table>\n",
       "</div>"
      ],
      "text/plain": [
       "                                          Hypothesis  Reach  Impact  \\\n",
       "0  Добавить два новых канала привлечения трафика,...      3      10   \n",
       "1  Запустить собственную службу доставки, что сок...      2       5   \n",
       "2  Добавить блоки рекомендаций товаров на сайт ин...      8       3   \n",
       "3  Изменить структура категорий, что увеличит кон...      8       3   \n",
       "4  Изменить цвет фона главной страницы, чтобы уве...      3       1   \n",
       "\n",
       "   Confidence  Efforts  \n",
       "0           8        6  \n",
       "1           4       10  \n",
       "2           7        3  \n",
       "3           3        8  \n",
       "4           1        1  "
      ]
     },
     "metadata": {},
     "output_type": "display_data"
    },
    {
     "data": {
      "text/html": [
       "<div>\n",
       "<style scoped>\n",
       "    .dataframe tbody tr th:only-of-type {\n",
       "        vertical-align: middle;\n",
       "    }\n",
       "\n",
       "    .dataframe tbody tr th {\n",
       "        vertical-align: top;\n",
       "    }\n",
       "\n",
       "    .dataframe thead th {\n",
       "        text-align: right;\n",
       "    }\n",
       "</style>\n",
       "<table border=\"1\" class=\"dataframe\">\n",
       "  <thead>\n",
       "    <tr style=\"text-align: right;\">\n",
       "      <th></th>\n",
       "      <th>transactionId</th>\n",
       "      <th>visitorId</th>\n",
       "      <th>date</th>\n",
       "      <th>revenue</th>\n",
       "      <th>group</th>\n",
       "    </tr>\n",
       "  </thead>\n",
       "  <tbody>\n",
       "    <tr>\n",
       "      <th>0</th>\n",
       "      <td>3667963787</td>\n",
       "      <td>3312258926</td>\n",
       "      <td>2019-08-15</td>\n",
       "      <td>1650</td>\n",
       "      <td>B</td>\n",
       "    </tr>\n",
       "    <tr>\n",
       "      <th>1</th>\n",
       "      <td>2804400009</td>\n",
       "      <td>3642806036</td>\n",
       "      <td>2019-08-15</td>\n",
       "      <td>730</td>\n",
       "      <td>B</td>\n",
       "    </tr>\n",
       "    <tr>\n",
       "      <th>2</th>\n",
       "      <td>2961555356</td>\n",
       "      <td>4069496402</td>\n",
       "      <td>2019-08-15</td>\n",
       "      <td>400</td>\n",
       "      <td>A</td>\n",
       "    </tr>\n",
       "    <tr>\n",
       "      <th>3</th>\n",
       "      <td>3797467345</td>\n",
       "      <td>1196621759</td>\n",
       "      <td>2019-08-15</td>\n",
       "      <td>9759</td>\n",
       "      <td>B</td>\n",
       "    </tr>\n",
       "    <tr>\n",
       "      <th>4</th>\n",
       "      <td>2282983706</td>\n",
       "      <td>2322279887</td>\n",
       "      <td>2019-08-15</td>\n",
       "      <td>2308</td>\n",
       "      <td>B</td>\n",
       "    </tr>\n",
       "  </tbody>\n",
       "</table>\n",
       "</div>"
      ],
      "text/plain": [
       "   transactionId   visitorId        date  revenue group\n",
       "0     3667963787  3312258926  2019-08-15     1650     B\n",
       "1     2804400009  3642806036  2019-08-15      730     B\n",
       "2     2961555356  4069496402  2019-08-15      400     A\n",
       "3     3797467345  1196621759  2019-08-15     9759     B\n",
       "4     2282983706  2322279887  2019-08-15     2308     B"
      ]
     },
     "metadata": {},
     "output_type": "display_data"
    },
    {
     "data": {
      "text/html": [
       "<div>\n",
       "<style scoped>\n",
       "    .dataframe tbody tr th:only-of-type {\n",
       "        vertical-align: middle;\n",
       "    }\n",
       "\n",
       "    .dataframe tbody tr th {\n",
       "        vertical-align: top;\n",
       "    }\n",
       "\n",
       "    .dataframe thead th {\n",
       "        text-align: right;\n",
       "    }\n",
       "</style>\n",
       "<table border=\"1\" class=\"dataframe\">\n",
       "  <thead>\n",
       "    <tr style=\"text-align: right;\">\n",
       "      <th></th>\n",
       "      <th>date</th>\n",
       "      <th>group</th>\n",
       "      <th>visitors</th>\n",
       "    </tr>\n",
       "  </thead>\n",
       "  <tbody>\n",
       "    <tr>\n",
       "      <th>0</th>\n",
       "      <td>2019-08-01</td>\n",
       "      <td>A</td>\n",
       "      <td>719</td>\n",
       "    </tr>\n",
       "    <tr>\n",
       "      <th>1</th>\n",
       "      <td>2019-08-02</td>\n",
       "      <td>A</td>\n",
       "      <td>619</td>\n",
       "    </tr>\n",
       "    <tr>\n",
       "      <th>2</th>\n",
       "      <td>2019-08-03</td>\n",
       "      <td>A</td>\n",
       "      <td>507</td>\n",
       "    </tr>\n",
       "    <tr>\n",
       "      <th>3</th>\n",
       "      <td>2019-08-04</td>\n",
       "      <td>A</td>\n",
       "      <td>717</td>\n",
       "    </tr>\n",
       "    <tr>\n",
       "      <th>4</th>\n",
       "      <td>2019-08-05</td>\n",
       "      <td>A</td>\n",
       "      <td>756</td>\n",
       "    </tr>\n",
       "  </tbody>\n",
       "</table>\n",
       "</div>"
      ],
      "text/plain": [
       "         date group  visitors\n",
       "0  2019-08-01     A       719\n",
       "1  2019-08-02     A       619\n",
       "2  2019-08-03     A       507\n",
       "3  2019-08-04     A       717\n",
       "4  2019-08-05     A       756"
      ]
     },
     "metadata": {},
     "output_type": "display_data"
    }
   ],
   "source": [
    "# Посмотрим на содержание предоставленных датафреймов:\n",
    "display(hypothesis.head())\n",
    "display(orders.head())\n",
    "display(visitors.head())"
   ]
  },
  {
   "cell_type": "code",
   "execution_count": 4,
   "metadata": {},
   "outputs": [
    {
     "name": "stdout",
     "output_type": "stream",
     "text": [
      "<class 'pandas.core.frame.DataFrame'>\n",
      "RangeIndex: 9 entries, 0 to 8\n",
      "Data columns (total 5 columns):\n",
      " #   Column      Non-Null Count  Dtype \n",
      "---  ------      --------------  ----- \n",
      " 0   Hypothesis  9 non-null      object\n",
      " 1   Reach       9 non-null      int64 \n",
      " 2   Impact      9 non-null      int64 \n",
      " 3   Confidence  9 non-null      int64 \n",
      " 4   Efforts     9 non-null      int64 \n",
      "dtypes: int64(4), object(1)\n",
      "memory usage: 488.0+ bytes\n"
     ]
    },
    {
     "data": {
      "text/plain": [
       "None"
      ]
     },
     "metadata": {},
     "output_type": "display_data"
    },
    {
     "name": "stdout",
     "output_type": "stream",
     "text": [
      "<class 'pandas.core.frame.DataFrame'>\n",
      "RangeIndex: 1197 entries, 0 to 1196\n",
      "Data columns (total 5 columns):\n",
      " #   Column         Non-Null Count  Dtype \n",
      "---  ------         --------------  ----- \n",
      " 0   transactionId  1197 non-null   int64 \n",
      " 1   visitorId      1197 non-null   int64 \n",
      " 2   date           1197 non-null   object\n",
      " 3   revenue        1197 non-null   int64 \n",
      " 4   group          1197 non-null   object\n",
      "dtypes: int64(3), object(2)\n",
      "memory usage: 46.9+ KB\n"
     ]
    },
    {
     "data": {
      "text/plain": [
       "None"
      ]
     },
     "metadata": {},
     "output_type": "display_data"
    },
    {
     "name": "stdout",
     "output_type": "stream",
     "text": [
      "<class 'pandas.core.frame.DataFrame'>\n",
      "RangeIndex: 62 entries, 0 to 61\n",
      "Data columns (total 3 columns):\n",
      " #   Column    Non-Null Count  Dtype \n",
      "---  ------    --------------  ----- \n",
      " 0   date      62 non-null     object\n",
      " 1   group     62 non-null     object\n",
      " 2   visitors  62 non-null     int64 \n",
      "dtypes: int64(1), object(2)\n",
      "memory usage: 1.6+ KB\n"
     ]
    },
    {
     "data": {
      "text/plain": [
       "None"
      ]
     },
     "metadata": {},
     "output_type": "display_data"
    }
   ],
   "source": [
    "# Проверим данные на наличие пропусков, а также на соответствие типов:\n",
    "display(hypothesis.info())\n",
    "display(orders.info())\n",
    "display(visitors.info())"
   ]
  },
  {
   "cell_type": "code",
   "execution_count": 5,
   "metadata": {},
   "outputs": [
    {
     "data": {
      "text/html": [
       "<div>\n",
       "<style scoped>\n",
       "    .dataframe tbody tr th:only-of-type {\n",
       "        vertical-align: middle;\n",
       "    }\n",
       "\n",
       "    .dataframe tbody tr th {\n",
       "        vertical-align: top;\n",
       "    }\n",
       "\n",
       "    .dataframe thead th {\n",
       "        text-align: right;\n",
       "    }\n",
       "</style>\n",
       "<table border=\"1\" class=\"dataframe\">\n",
       "  <thead>\n",
       "    <tr style=\"text-align: right;\">\n",
       "      <th></th>\n",
       "      <th>Reach</th>\n",
       "      <th>Impact</th>\n",
       "      <th>Confidence</th>\n",
       "      <th>Efforts</th>\n",
       "    </tr>\n",
       "  </thead>\n",
       "  <tbody>\n",
       "    <tr>\n",
       "      <th>count</th>\n",
       "      <td>9.000000</td>\n",
       "      <td>9.000000</td>\n",
       "      <td>9.000000</td>\n",
       "      <td>9.000000</td>\n",
       "    </tr>\n",
       "    <tr>\n",
       "      <th>mean</th>\n",
       "      <td>4.777778</td>\n",
       "      <td>4.777778</td>\n",
       "      <td>5.555556</td>\n",
       "      <td>4.888889</td>\n",
       "    </tr>\n",
       "    <tr>\n",
       "      <th>std</th>\n",
       "      <td>3.153481</td>\n",
       "      <td>3.192874</td>\n",
       "      <td>3.045944</td>\n",
       "      <td>2.803767</td>\n",
       "    </tr>\n",
       "    <tr>\n",
       "      <th>min</th>\n",
       "      <td>1.000000</td>\n",
       "      <td>1.000000</td>\n",
       "      <td>1.000000</td>\n",
       "      <td>1.000000</td>\n",
       "    </tr>\n",
       "    <tr>\n",
       "      <th>25%</th>\n",
       "      <td>3.000000</td>\n",
       "      <td>3.000000</td>\n",
       "      <td>3.000000</td>\n",
       "      <td>3.000000</td>\n",
       "    </tr>\n",
       "    <tr>\n",
       "      <th>50%</th>\n",
       "      <td>3.000000</td>\n",
       "      <td>3.000000</td>\n",
       "      <td>7.000000</td>\n",
       "      <td>5.000000</td>\n",
       "    </tr>\n",
       "    <tr>\n",
       "      <th>75%</th>\n",
       "      <td>8.000000</td>\n",
       "      <td>7.000000</td>\n",
       "      <td>8.000000</td>\n",
       "      <td>6.000000</td>\n",
       "    </tr>\n",
       "    <tr>\n",
       "      <th>max</th>\n",
       "      <td>10.000000</td>\n",
       "      <td>10.000000</td>\n",
       "      <td>9.000000</td>\n",
       "      <td>10.000000</td>\n",
       "    </tr>\n",
       "  </tbody>\n",
       "</table>\n",
       "</div>"
      ],
      "text/plain": [
       "           Reach     Impact  Confidence    Efforts\n",
       "count   9.000000   9.000000    9.000000   9.000000\n",
       "mean    4.777778   4.777778    5.555556   4.888889\n",
       "std     3.153481   3.192874    3.045944   2.803767\n",
       "min     1.000000   1.000000    1.000000   1.000000\n",
       "25%     3.000000   3.000000    3.000000   3.000000\n",
       "50%     3.000000   3.000000    7.000000   5.000000\n",
       "75%     8.000000   7.000000    8.000000   6.000000\n",
       "max    10.000000  10.000000    9.000000  10.000000"
      ]
     },
     "metadata": {},
     "output_type": "display_data"
    },
    {
     "data": {
      "text/html": [
       "<div>\n",
       "<style scoped>\n",
       "    .dataframe tbody tr th:only-of-type {\n",
       "        vertical-align: middle;\n",
       "    }\n",
       "\n",
       "    .dataframe tbody tr th {\n",
       "        vertical-align: top;\n",
       "    }\n",
       "\n",
       "    .dataframe thead th {\n",
       "        text-align: right;\n",
       "    }\n",
       "</style>\n",
       "<table border=\"1\" class=\"dataframe\">\n",
       "  <thead>\n",
       "    <tr style=\"text-align: right;\">\n",
       "      <th></th>\n",
       "      <th>transactionId</th>\n",
       "      <th>visitorId</th>\n",
       "      <th>revenue</th>\n",
       "    </tr>\n",
       "  </thead>\n",
       "  <tbody>\n",
       "    <tr>\n",
       "      <th>count</th>\n",
       "      <td>1.197000e+03</td>\n",
       "      <td>1.197000e+03</td>\n",
       "      <td>1.197000e+03</td>\n",
       "    </tr>\n",
       "    <tr>\n",
       "      <th>mean</th>\n",
       "      <td>2.155621e+09</td>\n",
       "      <td>2.165960e+09</td>\n",
       "      <td>8.348006e+03</td>\n",
       "    </tr>\n",
       "    <tr>\n",
       "      <th>std</th>\n",
       "      <td>1.229085e+09</td>\n",
       "      <td>1.236014e+09</td>\n",
       "      <td>3.919113e+04</td>\n",
       "    </tr>\n",
       "    <tr>\n",
       "      <th>min</th>\n",
       "      <td>1.062393e+06</td>\n",
       "      <td>5.114589e+06</td>\n",
       "      <td>5.000000e+01</td>\n",
       "    </tr>\n",
       "    <tr>\n",
       "      <th>25%</th>\n",
       "      <td>1.166776e+09</td>\n",
       "      <td>1.111826e+09</td>\n",
       "      <td>1.220000e+03</td>\n",
       "    </tr>\n",
       "    <tr>\n",
       "      <th>50%</th>\n",
       "      <td>2.145194e+09</td>\n",
       "      <td>2.217985e+09</td>\n",
       "      <td>2.978000e+03</td>\n",
       "    </tr>\n",
       "    <tr>\n",
       "      <th>75%</th>\n",
       "      <td>3.237740e+09</td>\n",
       "      <td>3.177606e+09</td>\n",
       "      <td>8.290000e+03</td>\n",
       "    </tr>\n",
       "    <tr>\n",
       "      <th>max</th>\n",
       "      <td>4.293856e+09</td>\n",
       "      <td>4.283872e+09</td>\n",
       "      <td>1.294500e+06</td>\n",
       "    </tr>\n",
       "  </tbody>\n",
       "</table>\n",
       "</div>"
      ],
      "text/plain": [
       "       transactionId     visitorId       revenue\n",
       "count   1.197000e+03  1.197000e+03  1.197000e+03\n",
       "mean    2.155621e+09  2.165960e+09  8.348006e+03\n",
       "std     1.229085e+09  1.236014e+09  3.919113e+04\n",
       "min     1.062393e+06  5.114589e+06  5.000000e+01\n",
       "25%     1.166776e+09  1.111826e+09  1.220000e+03\n",
       "50%     2.145194e+09  2.217985e+09  2.978000e+03\n",
       "75%     3.237740e+09  3.177606e+09  8.290000e+03\n",
       "max     4.293856e+09  4.283872e+09  1.294500e+06"
      ]
     },
     "metadata": {},
     "output_type": "display_data"
    },
    {
     "data": {
      "text/html": [
       "<div>\n",
       "<style scoped>\n",
       "    .dataframe tbody tr th:only-of-type {\n",
       "        vertical-align: middle;\n",
       "    }\n",
       "\n",
       "    .dataframe tbody tr th {\n",
       "        vertical-align: top;\n",
       "    }\n",
       "\n",
       "    .dataframe thead th {\n",
       "        text-align: right;\n",
       "    }\n",
       "</style>\n",
       "<table border=\"1\" class=\"dataframe\">\n",
       "  <thead>\n",
       "    <tr style=\"text-align: right;\">\n",
       "      <th></th>\n",
       "      <th>visitors</th>\n",
       "    </tr>\n",
       "  </thead>\n",
       "  <tbody>\n",
       "    <tr>\n",
       "      <th>count</th>\n",
       "      <td>62.000000</td>\n",
       "    </tr>\n",
       "    <tr>\n",
       "      <th>mean</th>\n",
       "      <td>607.290323</td>\n",
       "    </tr>\n",
       "    <tr>\n",
       "      <th>std</th>\n",
       "      <td>114.400560</td>\n",
       "    </tr>\n",
       "    <tr>\n",
       "      <th>min</th>\n",
       "      <td>361.000000</td>\n",
       "    </tr>\n",
       "    <tr>\n",
       "      <th>25%</th>\n",
       "      <td>534.000000</td>\n",
       "    </tr>\n",
       "    <tr>\n",
       "      <th>50%</th>\n",
       "      <td>624.500000</td>\n",
       "    </tr>\n",
       "    <tr>\n",
       "      <th>75%</th>\n",
       "      <td>710.500000</td>\n",
       "    </tr>\n",
       "    <tr>\n",
       "      <th>max</th>\n",
       "      <td>770.000000</td>\n",
       "    </tr>\n",
       "  </tbody>\n",
       "</table>\n",
       "</div>"
      ],
      "text/plain": [
       "         visitors\n",
       "count   62.000000\n",
       "mean   607.290323\n",
       "std    114.400560\n",
       "min    361.000000\n",
       "25%    534.000000\n",
       "50%    624.500000\n",
       "75%    710.500000\n",
       "max    770.000000"
      ]
     },
     "metadata": {},
     "output_type": "display_data"
    }
   ],
   "source": [
    "# Проверим данные на аномальные значения:\n",
    "display(hypothesis.describe())\n",
    "display(orders.describe())\n",
    "display(visitors.describe())"
   ]
  },
  {
   "cell_type": "markdown",
   "metadata": {},
   "source": [
    "### Краткий вывод по итогам секции:\n",
    "- Название колонок не соответствует стилю 'snake_case';\n",
    "- Тип данных в столбцах, содержащих информацию о времени события, не соответсвуют типу datetime;"
   ]
  },
  {
   "cell_type": "markdown",
   "metadata": {},
   "source": [
    "## 2. Предобработка данных"
   ]
  },
  {
   "cell_type": "markdown",
   "metadata": {},
   "source": [
    "### 2.1 Приведение названий столбцов к стилю 'snake_case'"
   ]
  },
  {
   "cell_type": "code",
   "execution_count": 6,
   "metadata": {},
   "outputs": [],
   "source": [
    "hypothesis.columns = hypothesis.columns.str.lower()\n",
    "\n",
    "orders = orders.rename(columns = {'transactionId' : 'transaction_id',\n",
    "                                  'visitorId' : 'visitor_id'})"
   ]
  },
  {
   "cell_type": "markdown",
   "metadata": {},
   "source": [
    "### 2.2 Обработка дубликатов"
   ]
  },
  {
   "cell_type": "code",
   "execution_count": 7,
   "metadata": {},
   "outputs": [
    {
     "data": {
      "text/plain": [
       "0"
      ]
     },
     "metadata": {},
     "output_type": "display_data"
    },
    {
     "data": {
      "text/plain": [
       "0"
      ]
     },
     "metadata": {},
     "output_type": "display_data"
    },
    {
     "data": {
      "text/plain": [
       "0"
      ]
     },
     "metadata": {},
     "output_type": "display_data"
    }
   ],
   "source": [
    "# Посчитаем количество полных дубликатов в каждом датафрейме:\n",
    "display(hypothesis.duplicated().sum())\n",
    "display(orders.duplicated().sum())\n",
    "display(visitors.duplicated().sum())"
   ]
  },
  {
   "cell_type": "code",
   "execution_count": 8,
   "metadata": {},
   "outputs": [],
   "source": [
    "# Проверим данные на наличие неявных дубликатов:"
   ]
  },
  {
   "cell_type": "code",
   "execution_count": 9,
   "metadata": {},
   "outputs": [
    {
     "data": {
      "text/plain": [
       "array(['Добавить два новых канала привлечения трафика, что позволит привлекать на 30% больше пользователей',\n",
       "       'Запустить собственную службу доставки, что сократит срок доставки заказов',\n",
       "       'Добавить блоки рекомендаций товаров на сайт интернет магазина, чтобы повысить конверсию и средний чек заказа',\n",
       "       'Изменить структура категорий, что увеличит конверсию, т.к. пользователи быстрее найдут нужный товар',\n",
       "       'Изменить цвет фона главной страницы, чтобы увеличить вовлеченность пользователей',\n",
       "       'Добавить страницу отзывов клиентов о магазине, что позволит увеличить количество заказов',\n",
       "       'Показать на главной странице баннеры с актуальными акциями и распродажами, чтобы увеличить конверсию',\n",
       "       'Добавить форму подписки на все основные страницы, чтобы собрать базу клиентов для email-рассылок',\n",
       "       'Запустить акцию, дающую скидку на товар в день рождения'],\n",
       "      dtype=object)"
      ]
     },
     "metadata": {},
     "output_type": "display_data"
    },
    {
     "data": {
      "text/plain": [
       "array(['B', 'A'], dtype=object)"
      ]
     },
     "metadata": {},
     "output_type": "display_data"
    },
    {
     "data": {
      "text/plain": [
       "array(['A', 'B'], dtype=object)"
      ]
     },
     "metadata": {},
     "output_type": "display_data"
    }
   ],
   "source": [
    "display(hypothesis['hypothesis'].unique())\n",
    "display(orders['group'].unique())\n",
    "display(visitors['group'].unique())"
   ]
  },
  {
   "cell_type": "markdown",
   "metadata": {},
   "source": [
    "### 2.3 Приведение данных к нужным типам:"
   ]
  },
  {
   "cell_type": "code",
   "execution_count": 10,
   "metadata": {},
   "outputs": [],
   "source": [
    "orders['date'] = orders['date'].map(\n",
    "    lambda x: dt.datetime.strptime(x, '%Y-%m-%d')\n",
    ")\n",
    "\n",
    "visitors['date'] = visitors['date'].map(\n",
    "    lambda x: dt.datetime.strptime(x, '%Y-%m-%d')\n",
    ")"
   ]
  },
  {
   "cell_type": "markdown",
   "metadata": {},
   "source": [
    "### 2.4 Проверка разбиения пользователей при проведении A/B теста:"
   ]
  },
  {
   "cell_type": "code",
   "execution_count": 11,
   "metadata": {},
   "outputs": [
    {
     "name": "stdout",
     "output_type": "stream",
     "text": [
      "Количество уникальных пользователей, попавших в обе группы: 58\n"
     ]
    }
   ],
   "source": [
    "# Проверим, существуют ли пользователи, которые попали в обе группы одновременно:\n",
    "users_in_both_groups = (orders.query('group==\"A\"')\n",
    "                        .merge(orders.query('group==\"B\"'),how='inner',on='visitor_id')['visitor_id']\n",
    "                        .drop_duplicates()\n",
    "                       )\n",
    "print(\"Количество уникальных пользователей, попавших в обе группы: {}\".format(users_in_both_groups.shape[0]))"
   ]
  },
  {
   "cell_type": "code",
   "execution_count": 12,
   "metadata": {},
   "outputs": [],
   "source": [
    "# Исключим этих пользователей из нашего анализа:\n",
    "orders = orders[np.logical_not(orders['visitor_id'].isin(users_in_both_groups))]"
   ]
  },
  {
   "cell_type": "markdown",
   "metadata": {},
   "source": [
    "### Краткий вывод по итогам секции:\n",
    "- названия столбцов были приведены к стилю 'snake_case',\n",
    "- в датафреймах отсутствуют как полные, так и неявные дубликаты,\n",
    "- данные в стобцах, содержащих информацию о времени того или иного события, были приведены к типу datetime;\n",
    "- из датафрейма orders были удалены пользователи, которые попали в обе группы для тестирования одновременно."
   ]
  },
  {
   "cell_type": "markdown",
   "metadata": {},
   "source": [
    "## 3. Приоритизация списка гипотез"
   ]
  },
  {
   "cell_type": "code",
   "execution_count": 13,
   "metadata": {},
   "outputs": [],
   "source": [
    "# Рассчитаем метрики 'ICE' и 'RICE' для приоритизации гипотез:\n",
    "hypothesis['ice'] = round(hypothesis['impact'] * hypothesis['confidence'] / hypothesis['efforts'], 2)\n",
    "hypothesis['rice'] = round(hypothesis['reach'] * hypothesis['impact'] * hypothesis['confidence'] / hypothesis['efforts'], 2)"
   ]
  },
  {
   "cell_type": "code",
   "execution_count": 14,
   "metadata": {},
   "outputs": [
    {
     "data": {
      "text/html": [
       "<div>\n",
       "<style scoped>\n",
       "    .dataframe tbody tr th:only-of-type {\n",
       "        vertical-align: middle;\n",
       "    }\n",
       "\n",
       "    .dataframe tbody tr th {\n",
       "        vertical-align: top;\n",
       "    }\n",
       "\n",
       "    .dataframe thead th {\n",
       "        text-align: right;\n",
       "    }\n",
       "</style>\n",
       "<table border=\"1\" class=\"dataframe\">\n",
       "  <thead>\n",
       "    <tr style=\"text-align: right;\">\n",
       "      <th></th>\n",
       "      <th>hypothesis</th>\n",
       "      <th>ice</th>\n",
       "      <th>rice</th>\n",
       "    </tr>\n",
       "  </thead>\n",
       "  <tbody>\n",
       "    <tr>\n",
       "      <th>8</th>\n",
       "      <td>Запустить акцию, дающую скидку на товар в день рождения</td>\n",
       "      <td>16.20</td>\n",
       "      <td>16.2</td>\n",
       "    </tr>\n",
       "    <tr>\n",
       "      <th>0</th>\n",
       "      <td>Добавить два новых канала привлечения трафика, что позволит привлекать на 30% больше пользователей</td>\n",
       "      <td>13.33</td>\n",
       "      <td>40.0</td>\n",
       "    </tr>\n",
       "    <tr>\n",
       "      <th>7</th>\n",
       "      <td>Добавить форму подписки на все основные страницы, чтобы собрать базу клиентов для email-рассылок</td>\n",
       "      <td>11.20</td>\n",
       "      <td>112.0</td>\n",
       "    </tr>\n",
       "    <tr>\n",
       "      <th>6</th>\n",
       "      <td>Показать на главной странице баннеры с актуальными акциями и распродажами, чтобы увеличить конверсию</td>\n",
       "      <td>8.00</td>\n",
       "      <td>40.0</td>\n",
       "    </tr>\n",
       "    <tr>\n",
       "      <th>2</th>\n",
       "      <td>Добавить блоки рекомендаций товаров на сайт интернет магазина, чтобы повысить конверсию и средний чек заказа</td>\n",
       "      <td>7.00</td>\n",
       "      <td>56.0</td>\n",
       "    </tr>\n",
       "    <tr>\n",
       "      <th>1</th>\n",
       "      <td>Запустить собственную службу доставки, что сократит срок доставки заказов</td>\n",
       "      <td>2.00</td>\n",
       "      <td>4.0</td>\n",
       "    </tr>\n",
       "    <tr>\n",
       "      <th>5</th>\n",
       "      <td>Добавить страницу отзывов клиентов о магазине, что позволит увеличить количество заказов</td>\n",
       "      <td>1.33</td>\n",
       "      <td>4.0</td>\n",
       "    </tr>\n",
       "    <tr>\n",
       "      <th>3</th>\n",
       "      <td>Изменить структура категорий, что увеличит конверсию, т.к. пользователи быстрее найдут нужный товар</td>\n",
       "      <td>1.12</td>\n",
       "      <td>9.0</td>\n",
       "    </tr>\n",
       "    <tr>\n",
       "      <th>4</th>\n",
       "      <td>Изменить цвет фона главной страницы, чтобы увеличить вовлеченность пользователей</td>\n",
       "      <td>1.00</td>\n",
       "      <td>3.0</td>\n",
       "    </tr>\n",
       "  </tbody>\n",
       "</table>\n",
       "</div>"
      ],
      "text/plain": [
       "                                                                                                     hypothesis  \\\n",
       "8  Запустить акцию, дающую скидку на товар в день рождения                                                        \n",
       "0  Добавить два новых канала привлечения трафика, что позволит привлекать на 30% больше пользователей             \n",
       "7  Добавить форму подписки на все основные страницы, чтобы собрать базу клиентов для email-рассылок               \n",
       "6  Показать на главной странице баннеры с актуальными акциями и распродажами, чтобы увеличить конверсию           \n",
       "2  Добавить блоки рекомендаций товаров на сайт интернет магазина, чтобы повысить конверсию и средний чек заказа   \n",
       "1  Запустить собственную службу доставки, что сократит срок доставки заказов                                      \n",
       "5  Добавить страницу отзывов клиентов о магазине, что позволит увеличить количество заказов                       \n",
       "3  Изменить структура категорий, что увеличит конверсию, т.к. пользователи быстрее найдут нужный товар            \n",
       "4  Изменить цвет фона главной страницы, чтобы увеличить вовлеченность пользователей                               \n",
       "\n",
       "     ice   rice  \n",
       "8  16.20  16.2   \n",
       "0  13.33  40.0   \n",
       "7  11.20  112.0  \n",
       "6  8.00   40.0   \n",
       "2  7.00   56.0   \n",
       "1  2.00   4.0    \n",
       "5  1.33   4.0    \n",
       "3  1.12   9.0    \n",
       "4  1.00   3.0    "
      ]
     },
     "execution_count": 14,
     "metadata": {},
     "output_type": "execute_result"
    }
   ],
   "source": [
    "# Отсортируем гипотезы по метрике 'ICE':\n",
    "pd.options.display.max_colwidth = 1\n",
    "hypothesis[['hypothesis', 'ice', 'rice']].sort_values(by = 'ice', ascending = False)"
   ]
  },
  {
   "cell_type": "markdown",
   "metadata": {},
   "source": [
    "Исходя из фреймворка 'ICE', самыми перспективными гипотезами являются гипотезы с индексами 8, 0, 7, а именно:\n",
    "1. Запустить акцию, дающую скидку на товар в день рождения;\n",
    "2. Добавить два новых канала привлечения трафика, что позволит привлекать на 30% больше пользователей;\n",
    "3. Добавить форму подписки на все основные страницы, чтобы собрать базу клиентов для email-рассылок;"
   ]
  },
  {
   "cell_type": "code",
   "execution_count": 15,
   "metadata": {
    "scrolled": true
   },
   "outputs": [
    {
     "data": {
      "text/html": [
       "<div>\n",
       "<style scoped>\n",
       "    .dataframe tbody tr th:only-of-type {\n",
       "        vertical-align: middle;\n",
       "    }\n",
       "\n",
       "    .dataframe tbody tr th {\n",
       "        vertical-align: top;\n",
       "    }\n",
       "\n",
       "    .dataframe thead th {\n",
       "        text-align: right;\n",
       "    }\n",
       "</style>\n",
       "<table border=\"1\" class=\"dataframe\">\n",
       "  <thead>\n",
       "    <tr style=\"text-align: right;\">\n",
       "      <th></th>\n",
       "      <th>hypothesis</th>\n",
       "      <th>ice</th>\n",
       "      <th>rice</th>\n",
       "    </tr>\n",
       "  </thead>\n",
       "  <tbody>\n",
       "    <tr>\n",
       "      <th>7</th>\n",
       "      <td>Добавить форму подписки на все основные страницы, чтобы собрать базу клиентов для email-рассылок</td>\n",
       "      <td>11.20</td>\n",
       "      <td>112.0</td>\n",
       "    </tr>\n",
       "    <tr>\n",
       "      <th>2</th>\n",
       "      <td>Добавить блоки рекомендаций товаров на сайт интернет магазина, чтобы повысить конверсию и средний чек заказа</td>\n",
       "      <td>7.00</td>\n",
       "      <td>56.0</td>\n",
       "    </tr>\n",
       "    <tr>\n",
       "      <th>0</th>\n",
       "      <td>Добавить два новых канала привлечения трафика, что позволит привлекать на 30% больше пользователей</td>\n",
       "      <td>13.33</td>\n",
       "      <td>40.0</td>\n",
       "    </tr>\n",
       "    <tr>\n",
       "      <th>6</th>\n",
       "      <td>Показать на главной странице баннеры с актуальными акциями и распродажами, чтобы увеличить конверсию</td>\n",
       "      <td>8.00</td>\n",
       "      <td>40.0</td>\n",
       "    </tr>\n",
       "    <tr>\n",
       "      <th>8</th>\n",
       "      <td>Запустить акцию, дающую скидку на товар в день рождения</td>\n",
       "      <td>16.20</td>\n",
       "      <td>16.2</td>\n",
       "    </tr>\n",
       "    <tr>\n",
       "      <th>3</th>\n",
       "      <td>Изменить структура категорий, что увеличит конверсию, т.к. пользователи быстрее найдут нужный товар</td>\n",
       "      <td>1.12</td>\n",
       "      <td>9.0</td>\n",
       "    </tr>\n",
       "    <tr>\n",
       "      <th>1</th>\n",
       "      <td>Запустить собственную службу доставки, что сократит срок доставки заказов</td>\n",
       "      <td>2.00</td>\n",
       "      <td>4.0</td>\n",
       "    </tr>\n",
       "    <tr>\n",
       "      <th>5</th>\n",
       "      <td>Добавить страницу отзывов клиентов о магазине, что позволит увеличить количество заказов</td>\n",
       "      <td>1.33</td>\n",
       "      <td>4.0</td>\n",
       "    </tr>\n",
       "    <tr>\n",
       "      <th>4</th>\n",
       "      <td>Изменить цвет фона главной страницы, чтобы увеличить вовлеченность пользователей</td>\n",
       "      <td>1.00</td>\n",
       "      <td>3.0</td>\n",
       "    </tr>\n",
       "  </tbody>\n",
       "</table>\n",
       "</div>"
      ],
      "text/plain": [
       "                                                                                                     hypothesis  \\\n",
       "7  Добавить форму подписки на все основные страницы, чтобы собрать базу клиентов для email-рассылок               \n",
       "2  Добавить блоки рекомендаций товаров на сайт интернет магазина, чтобы повысить конверсию и средний чек заказа   \n",
       "0  Добавить два новых канала привлечения трафика, что позволит привлекать на 30% больше пользователей             \n",
       "6  Показать на главной странице баннеры с актуальными акциями и распродажами, чтобы увеличить конверсию           \n",
       "8  Запустить акцию, дающую скидку на товар в день рождения                                                        \n",
       "3  Изменить структура категорий, что увеличит конверсию, т.к. пользователи быстрее найдут нужный товар            \n",
       "1  Запустить собственную службу доставки, что сократит срок доставки заказов                                      \n",
       "5  Добавить страницу отзывов клиентов о магазине, что позволит увеличить количество заказов                       \n",
       "4  Изменить цвет фона главной страницы, чтобы увеличить вовлеченность пользователей                               \n",
       "\n",
       "     ice   rice  \n",
       "7  11.20  112.0  \n",
       "2  7.00   56.0   \n",
       "0  13.33  40.0   \n",
       "6  8.00   40.0   \n",
       "8  16.20  16.2   \n",
       "3  1.12   9.0    \n",
       "1  2.00   4.0    \n",
       "5  1.33   4.0    \n",
       "4  1.00   3.0    "
      ]
     },
     "execution_count": 15,
     "metadata": {},
     "output_type": "execute_result"
    }
   ],
   "source": [
    "# Отсортируем гипотезы по метрике 'RICE':\n",
    "hypothesis[['hypothesis', 'ice', 'rice']].sort_values(by = 'rice', ascending = False)"
   ]
  },
  {
   "cell_type": "markdown",
   "metadata": {},
   "source": [
    "Исходя из фреймворка 'RICE', самыми перспективными гипотезами являются гипотезы с индексами 7, 2, 0 а именно:\n",
    "1. Добавить форму подписки на все основные страницы, чтобы собрать базу клиентов для email-рассылок;\n",
    "2. Добавить блоки рекомендаций товаров на сайт интернет магазина, чтобы повысить конверсию и средний чек заказа;\n",
    "3. Добавить два новых канала привлечения трафика, что позволит привлекать на 30% больше пользователей;"
   ]
  },
  {
   "cell_type": "markdown",
   "metadata": {},
   "source": [
    "### Краткий вывод по итогам приоритизации гипотез:\n",
    "- Поскольку целью данного исследования является увеличение суммарной выручки компании, необходимо уделить большее внимание метрике 'RICE' при выборе гипотезы для проведения A/B теста. Тк именно 'RICE' (в отличии от метрики 'ICE') учитывает охват гипотезы.\n",
    "- Лучшей гипотезой для тестирования является гипотеза под индексом 7:\n",
    "    - *Добавить форму подписки на все основные страницы, чтобы собрать базу клиентов для email-рассылок*;"
   ]
  },
  {
   "cell_type": "markdown",
   "metadata": {},
   "source": [
    "## 4. Анализ результата A/B теста"
   ]
  },
  {
   "cell_type": "markdown",
   "metadata": {},
   "source": [
    "### 4.1 Анализ кумулятивной выручки по группам."
   ]
  },
  {
   "cell_type": "code",
   "execution_count": 16,
   "metadata": {},
   "outputs": [],
   "source": [
    "# Рассчитаем кумулятивные параметры:\n",
    "datesGroups = orders[['date','group']].drop_duplicates()\n",
    "ordersAggregated = datesGroups.apply(\n",
    "    lambda x: orders[np.logical_and(orders['date'] <= x['date'],\n",
    "                                    orders['group'] == x['group'])]\n",
    "    .agg({'date' : 'max',\n",
    "          'group' : 'max',\n",
    "          'transaction_id' : 'nunique',\n",
    "          'visitor_id' : 'nunique',\n",
    "          'revenue' : 'sum'}), axis=1) \\\n",
    "    .sort_values(by=['date','group'])"
   ]
  },
  {
   "cell_type": "code",
   "execution_count": 17,
   "metadata": {},
   "outputs": [
    {
     "data": {
      "image/png": "[encoded data removed]",
      "text/plain": [
       "<Figure size 1080x360 with 1 Axes>"
      ]
     },
     "metadata": {
      "needs_background": "light"
     },
     "output_type": "display_data"
    }
   ],
   "source": [
    "# Построим графики кумулятивной выручки по группам:\n",
    "plt.figure(figsize = (15, 5))\n",
    "plt.plot(ordersAggregated.query('group == \"A\"')['date'], ordersAggregated.query('group == \"A\"')['revenue'], label = \"A\")\n",
    "plt.plot(ordersAggregated.query('group == \"B\"')['date'], ordersAggregated.query('group == \"B\"')['revenue'], label = \"B\")\n",
    "plt.legend()\n",
    "plt.title(\"Кумулятивная выручка по группам\")\n",
    "plt.xlabel(\"Дата\")\n",
    "plt.ylabel(\"Выручка\")\n",
    "plt.grid()"
   ]
  },
  {
   "cell_type": "markdown",
   "metadata": {},
   "source": [
    "#### Краткий анализ кумулятивной выручки по группам:\n",
    "- Начиная с 2019-08-19 выручка пользователей из группы B стала стабильно превышать выручку пользователей из группы А.\n",
    "- Однако, если анализировать ситуацию после трёх недель после начала теста, можно заметить, что прямая кумулятивной выручки для группы B практически параллельна прямой кумулятивной выручки для группы А. Это говорит о том, что выручка группы B растёт примерно с той же скоростью, что и выручка группы А.\n",
    "- Превышение же выручки группы B над А можно объяснить аномально большими заказами в группе B с 2019-08-17 по 2019-08-21.\n",
    "- Таким образом, без анализа аномальных значений нельзя говорить о успешности A/B теста."
   ]
  },
  {
   "cell_type": "markdown",
   "metadata": {},
   "source": [
    "### 4.2 Анализ кумулятивного среднего чека по группам."
   ]
  },
  {
   "cell_type": "code",
   "execution_count": 18,
   "metadata": {},
   "outputs": [
    {
     "data": {
      "image/png": "[encoded data removed]",
      "text/plain": [
       "<Figure size 1080x360 with 1 Axes>"
      ]
     },
     "metadata": {
      "needs_background": "light"
     },
     "output_type": "display_data"
    }
   ],
   "source": [
    "# Построим графики кумулятивного среднего чека по группам:\n",
    "plt.figure(figsize = (15, 5))\n",
    "plt.plot(ordersAggregated.query('group == \"A\"')['date'], ordersAggregated.query('group == \"A\"')['revenue'] / ordersAggregated.query('group == \"A\"')['transaction_id'], label = \"A\")\n",
    "plt.plot(ordersAggregated.query('group == \"B\"')['date'], ordersAggregated.query('group == \"B\"')['revenue'] / ordersAggregated.query('group == \"B\"')['transaction_id'], label = \"B\")\n",
    "plt.legend()\n",
    "plt.title(\"Кумулятивный средний чек по группам\")\n",
    "plt.xlabel(\"Дата\")\n",
    "plt.ylabel(\"Средний чек\")\n",
    "plt.grid()"
   ]
  },
  {
   "cell_type": "markdown",
   "metadata": {},
   "source": [
    "#### Краткий вывод по итогам расчёта кумулятивного среднего чека по группам:\n",
    "- После двух с половиной недель активных колебаний средний чек группы А начал потихоньку стабилизироваться вокруг значения в 7000.\n",
    "- Динамика среднего чека группы B на начальном этапе похожа на динамику среднего чека группы A: первые две с половиной недели характеризовались активными колебаниями, потом началась фаза стабилизации, которая, однако, прервалась резким увеличением среднего чека в полтора раза.\n",
    "- Вероятней всего, резкий скачок вызван попаданием в группу B аномально больших заказов (аномалий). Последующее плавное снижение среднего чека группы B свидетельствует в пользу высказанного выше предположения.\n",
    "- Для того чтобы судить о успешности A/B теста, необходимо повторить исследование, предварительно исключив из данных аномальные заказы."
   ]
  },
  {
   "cell_type": "markdown",
   "metadata": {},
   "source": [
    "### 4.3 Анализ относительного изменения кумулятивного среднего чека группы B к группе A. "
   ]
  },
  {
   "cell_type": "code",
   "execution_count": 19,
   "metadata": {},
   "outputs": [],
   "source": [
    "# Подготовим данные для построения графика:\n",
    "merged_cumulative_data = (ordersAggregated.query('group == \"B\"')\n",
    "                          .merge(ordersAggregated.query('group == \"A\"'),\n",
    "                                 on = 'date',\n",
    "                                 how = 'inner')\n",
    "                         )"
   ]
  },
  {
   "cell_type": "code",
   "execution_count": 20,
   "metadata": {},
   "outputs": [
    {
     "data": {
      "text/plain": [
       "<matplotlib.lines.Line2D at 0x7fe4ea82b550>"
      ]
     },
     "execution_count": 20,
     "metadata": {},
     "output_type": "execute_result"
    },
    {
     "data": {
      "image/png": "[encoded data removed]",
      "text/plain": [
       "<Figure size 1080x360 with 1 Axes>"
      ]
     },
     "metadata": {
      "needs_background": "light"
     },
     "output_type": "display_data"
    }
   ],
   "source": [
    "# Построим график относительного среднего чека группы B к группе A:\n",
    "plt.figure(figsize = (15, 5))\n",
    "plt.plot(merged_cumulative_data['date'], (merged_cumulative_data['revenue_x'] / merged_cumulative_data['transaction_id_x']) / (merged_cumulative_data['revenue_y'] / merged_cumulative_data['transaction_id_y']) - 1, label = \"Ratio\")\n",
    "plt.legend()\n",
    "plt.title(\"Относительное изменение кумулятивного среднего чека группы B к группе A\")\n",
    "plt.xlabel(\"Дата\")\n",
    "plt.ylabel(\"Отношение\")\n",
    "plt.grid()\n",
    "plt.axhline(y=0, color='red', linestyle='--')"
   ]
  },
  {
   "cell_type": "markdown",
   "metadata": {},
   "source": [
    "#### Краткий вывод по итогам расчёта отношения кумулятивного среднего чека группы B к группе А:\n",
    "- Полученный график илюстрирует все те тенденции, которые были подмечены в прошлом выводе:\n",
    "    - с 2019-08-01 по 2019-08-15 кумулятивные чеки групп A и B колебались с достаточно большой амплитудой;\n",
    "    - с 2019-08-15 началась фаза стабилизации средних чеков, которая была прервана взлетом среднего чека группы B;\n",
    "    - с 2019-08-21 отношение кумулятивного среднего чека группы B к кумулятивному среднему чеку группы А начинает стабильно снижаться;\n",
    "- Очевидно, что для более точных выводов необходимо посмотреть на ситуацию, избавившись от аномалий."
   ]
  },
  {
   "cell_type": "markdown",
   "metadata": {},
   "source": [
    "### 4.4 Анализ кумулятивного среднего количества заказов на посетителя по группам."
   ]
  },
  {
   "cell_type": "code",
   "execution_count": 21,
   "metadata": {},
   "outputs": [],
   "source": [
    "# Рассчитаем кумулятивное количество посетителей:\n",
    "visitorsAggregated = (datesGroups\n",
    "                      .apply(\n",
    "                          lambda x: visitors[np.logical_and(visitors['date'] <= x['date'], visitors['group'] == x['group'])]\n",
    "                          .agg({'date' : 'max',\n",
    "                                'group' : 'max',\n",
    "                                'visitors' : 'sum'}), axis=1)\n",
    "                     )\n",
    "ordersAggregated = ordersAggregated.merge(\n",
    "    visitorsAggregated, on = ['date', 'group'], how = 'left')"
   ]
  },
  {
   "cell_type": "code",
   "execution_count": 22,
   "metadata": {},
   "outputs": [
    {
     "data": {
      "image/png": "[encoded data removed]",
      "text/plain": [
       "<Figure size 1080x360 with 1 Axes>"
      ]
     },
     "metadata": {
      "needs_background": "light"
     },
     "output_type": "display_data"
    }
   ],
   "source": [
    "# Построим графики кумулятивного среднего количества заказов на посетителя по группам:\n",
    "plt.figure(figsize = (15, 5))\n",
    "plt.plot(ordersAggregated.query('group == \"A\"')['date'], ordersAggregated.query('group == \"A\"')['transaction_id'] / ordersAggregated.query('group == \"A\"')['visitors'], label = \"A\")\n",
    "plt.plot(ordersAggregated.query('group == \"B\"')['date'], ordersAggregated.query('group == \"B\"')['transaction_id'] / ordersAggregated.query('group == \"B\"')['visitors'], label = \"B\")\n",
    "plt.legend()\n",
    "plt.title(\"Кумулятивное среднее количество заказов на посетителя по группам\")\n",
    "plt.xlabel(\"Дата\")\n",
    "plt.ylabel(\"Среднее количество заказов на посетителся\")\n",
    "plt.grid()"
   ]
  },
  {
   "cell_type": "markdown",
   "metadata": {},
   "source": [
    "#### Краткий вывод по итогам расчёта кумулятивного среднего количества заказов на посетителя:\n",
    "- В первые дни после начала A/B теста метрики для групп A и B сильно колебались, периодически превышая друг друга;\n",
    "- Примерно через неделю после старта метрики начали стабилизироваться;\n",
    "- По прошествию месяца с начала теста можно с уверенностью говорить, что кумулятивное среднее количество заказов на посетителя для группы B стабильно выше чем для группы А."
   ]
  },
  {
   "cell_type": "markdown",
   "metadata": {},
   "source": [
    "### 4.5 Анализ относительного изменения кумулятивного среднего количества заказов на посетителя группы B к группе A. "
   ]
  },
  {
   "cell_type": "code",
   "execution_count": 23,
   "metadata": {},
   "outputs": [],
   "source": [
    "# Подготовим данные для визуализации отношения кумулятивного среднего количества\n",
    "# заказов на посетителя группы В к группе А:\n",
    "merged_cumulative_data = ordersAggregated.query('group == \"A\"').merge(\n",
    "    ordersAggregated.query('group == \"B\"'),\n",
    "    on = 'date',\n",
    "    how = 'left')"
   ]
  },
  {
   "cell_type": "code",
   "execution_count": 24,
   "metadata": {},
   "outputs": [
    {
     "data": {
      "text/plain": [
       "<matplotlib.lines.Line2D at 0x7fe4ea6587f0>"
      ]
     },
     "execution_count": 24,
     "metadata": {},
     "output_type": "execute_result"
    },
    {
     "data": {
      "image/png": "[encoded data removed]",
      "text/plain": [
       "<Figure size 1080x360 with 1 Axes>"
      ]
     },
     "metadata": {
      "needs_background": "light"
     },
     "output_type": "display_data"
    }
   ],
   "source": [
    "# Построим график отношения кумулятивного среднего количества заказов на посетителя группы В к группе А:\n",
    "plt.figure(figsize = (15, 5))\n",
    "plt.plot(merged_cumulative_data['date'], (merged_cumulative_data['transaction_id_y'] / merged_cumulative_data['visitors_y']) / (merged_cumulative_data['transaction_id_x'] / merged_cumulative_data['visitors_x']) - 1, label = \"Ratio\")\n",
    "plt.legend()\n",
    "plt.title(\"Отношение кумулятивного среднего количества заказов на посетителя группы В к группе А\")\n",
    "plt.xlabel(\"Дата\")\n",
    "plt.ylabel(\"Отношение средних\")\n",
    "plt.grid()\n",
    "plt.axhline(y=0, color='red', linestyle='--')\n",
    "plt.axhline(y=0.15, color='orange', linestyle='--')"
   ]
  },
  {
   "cell_type": "markdown",
   "metadata": {},
   "source": [
    "#### Краткий вывод по итогам расчета отношения кумулятивного среднего количества заказов на посетителя группы В к группе А:\n",
    "- После начальных колебаний, продлившигся примерно десять дней после старта теста, рассчитанное отношение стабилизировалось;\n",
    "- Итого, кумулятивное среднее количество заказов на посетителся для группы B больше аналогичного показателя для группы А примерно на 15%."
   ]
  },
  {
   "cell_type": "markdown",
   "metadata": {},
   "source": [
    "### 4.6 Анализ количества заказов по пользователям."
   ]
  },
  {
   "cell_type": "code",
   "execution_count": 25,
   "metadata": {},
   "outputs": [],
   "source": [
    "orders_scatter = orders.groupby('visitor_id', as_index = False).agg({'transaction_id' : 'nunique'})\n",
    "x_values = pd.Series(range(0, len(orders_scatter['transaction_id'])))"
   ]
  },
  {
   "cell_type": "code",
   "execution_count": 26,
   "metadata": {},
   "outputs": [
    {
     "data": {
      "text/plain": [
       "Text(0.5, 0, 'Порядковый номер пользователя')"
      ]
     },
     "execution_count": 26,
     "metadata": {},
     "output_type": "execute_result"
    },
    {
     "data": {
      "image/png": "[encoded data removed]",
      "text/plain": [
       "<Figure size 1080x360 with 1 Axes>"
      ]
     },
     "metadata": {
      "needs_background": "light"
     },
     "output_type": "display_data"
    }
   ],
   "source": [
    "plt.figure(figsize = (15, 5))\n",
    "plt.scatter(x_values, orders_scatter['transaction_id'])\n",
    "plt.title(\"Распределение количества заказов пользователей\")\n",
    "plt.ylabel('Количество заказов')\n",
    "plt.xlabel('Порядковый номер пользователя')"
   ]
  },
  {
   "cell_type": "markdown",
   "metadata": {},
   "source": [
    "#### Анализ распределения количества заказов пользователей:\n",
    "- Большая часть пользователей совершает заказ один единственный раз;\n",
    "- Совсем небольшая часть пользователей совершает заказ от двух до пяти раз;\n",
    "- И лишь совсем мизерная доля пользователей совершает больше пяти заказов;"
   ]
  },
  {
   "cell_type": "markdown",
   "metadata": {},
   "source": [
    "### 4.7 Расчёт 95-ого и 99-ого перцентиля количества заказов на пользователя. Выбор границы для определения аномальных пользователей."
   ]
  },
  {
   "cell_type": "code",
   "execution_count": 27,
   "metadata": {},
   "outputs": [
    {
     "name": "stdout",
     "output_type": "stream",
     "text": [
      "[1. 1. 2.]\n"
     ]
    }
   ],
   "source": [
    "# Рассчитаем 90-й, 95-й и 99-й перцентили количества заказов на пользователя\n",
    "print(np.percentile(orders_scatter['transaction_id'], [90, 95, 99]))"
   ]
  },
  {
   "cell_type": "markdown",
   "metadata": {},
   "source": [
    "#### Выбор границы для определения аномальных пользователей:\n",
    "- Доля пользователей, совершивших более двух заказов составляет 5%;\n",
    "- Доля пользователей, совершивших более четырех заказов, составляет 1%;\n",
    "- Будем считать пользователей, совершивших три и более заказов, аномальными."
   ]
  },
  {
   "cell_type": "markdown",
   "metadata": {},
   "source": [
    "### 4.8 Анализ распределения стоимостей заказов."
   ]
  },
  {
   "cell_type": "code",
   "execution_count": 28,
   "metadata": {},
   "outputs": [
    {
     "data": {
      "text/plain": [
       "Text(0.5, 0, 'Порядковый номер транзакции')"
      ]
     },
     "execution_count": 28,
     "metadata": {},
     "output_type": "execute_result"
    },
    {
     "data": {
      "image/png": "[encoded data removed]",
      "text/plain": [
       "<Figure size 1080x360 with 1 Axes>"
      ]
     },
     "metadata": {
      "needs_background": "light"
     },
     "output_type": "display_data"
    }
   ],
   "source": [
    "# Построим график распределения стоимостей заказов:\n",
    "plt.figure(figsize = (15, 5))\n",
    "plt.scatter(pd.Series(range(0, len(orders['revenue']))), orders['revenue'])\n",
    "\n",
    "plt.title(\"Распределение стоимости заказов\")\n",
    "plt.ylabel('Размер транзакции')\n",
    "plt.xlabel('Порядковый номер транзакции')"
   ]
  },
  {
   "cell_type": "code",
   "execution_count": 29,
   "metadata": {},
   "outputs": [
    {
     "data": {
      "text/plain": [
       "(0.0, 100000.0)"
      ]
     },
     "execution_count": 29,
     "metadata": {},
     "output_type": "execute_result"
    },
    {
     "data": {
      "image/png": "[encoded data removed]",
      "text/plain": [
       "<Figure size 1080x360 with 1 Axes>"
      ]
     },
     "metadata": {
      "needs_background": "light"
     },
     "output_type": "display_data"
    }
   ],
   "source": [
    "# Построим тот же график, уменьшив область значений:\n",
    "plt.figure(figsize = (15, 5))\n",
    "plt.scatter(pd.Series(range(0, len(orders['revenue']))), orders['revenue'])\n",
    "\n",
    "plt.title(\"Распределение стоимости заказов\")\n",
    "plt.ylabel('Размер транзакции')\n",
    "plt.xlabel('Порядковый номер транзакции')\n",
    "plt.ylim(0, 100000)"
   ]
  },
  {
   "cell_type": "markdown",
   "metadata": {},
   "source": [
    "#### Анализ распределения стоимости заказов:\n",
    "- Стоимость большей части заказов укладывается в диапазон от нуля до пятидесяти тысяч;\n",
    "- В выборку попали заказы с аномальной для нашей выборки стоимостью: один заказ стоимостью более миллиона рублей, другой заказ стоимостью примерно в двести тысяч."
   ]
  },
  {
   "cell_type": "markdown",
   "metadata": {},
   "source": [
    "### 4.9 Расчёт 95-ого и 99-ого перцентиля стоимости заказов. Выбор границы стоимости для определения аномальных заказов."
   ]
  },
  {
   "cell_type": "code",
   "execution_count": 30,
   "metadata": {},
   "outputs": [
    {
     "name": "stdout",
     "output_type": "stream",
     "text": [
      "[17990. 26785. 53904.]\n"
     ]
    }
   ],
   "source": [
    "# Рассчитаем 90-й, 95-й и 99-й перцентили стоимости заказов:\n",
    "print(np.percentile(orders['revenue'], [90, 95, 99]))"
   ]
  },
  {
   "cell_type": "markdown",
   "metadata": {},
   "source": [
    "#### Выбор границы стоимости для определения аномальных заказов:\n",
    "- Стоимость лишь 5% заказов превышает 28000;\n",
    "- Стоимость лишь 1% заказов превышает 58000;\n",
    "- Будем считать заказы, стоимость которых превышает 28000, аномальными."
   ]
  },
  {
   "cell_type": "markdown",
   "metadata": {},
   "source": [
    "### 4.10 Расчёт статистической значимости различий в среднем количестве заказов на посетителя между группами по «сырым» данным."
   ]
  },
  {
   "cell_type": "markdown",
   "metadata": {},
   "source": [
    "Cтатистическую значимость различий в среднем количестве заказов на посетителся между группами будем считать при помощи критерия Манна-Уитни. \n",
    "\n",
    "Для этого необходимо для каждой группы посчитать уникальное количество заказов для каждого пользователя."
   ]
  },
  {
   "cell_type": "code",
   "execution_count": 31,
   "metadata": {},
   "outputs": [],
   "source": [
    "# Считаем для каждой группы количество заказов,\n",
    "# которые совершил каждый уникальный пользователь:\n",
    "sampleA = (orders.query('group == \"A\"')\n",
    "                 .groupby('visitor_id', as_index = False)\n",
    "                 .agg({'transaction_id' : 'nunique'})\n",
    "          )\n",
    "\n",
    "sampleB = (orders.query('group == \"B\"')\n",
    "                 .groupby('visitor_id', as_index = False)\n",
    "                 .agg({'transaction_id' : 'nunique'})\n",
    "          )"
   ]
  },
  {
   "cell_type": "code",
   "execution_count": 32,
   "metadata": {},
   "outputs": [],
   "source": [
    "# Собираем серию из пользователей, которые совершили хотя бы один заказ,\n",
    "# c теми кто ни разу не совершал покупку: \n",
    "sampleA = pd.concat([sampleA['transaction_id'], pd.Series(0, index = np.arange(visitors.query('group == \"A\"')['visitors'].sum() - sampleA['visitor_id'].nunique()))])\n",
    "sampleB = pd.concat([sampleB['transaction_id'], pd.Series(0, index = np.arange(visitors.query('group == \"B\"')['visitors'].sum() - sampleB['visitor_id'].nunique()))])"
   ]
  },
  {
   "cell_type": "markdown",
   "metadata": {},
   "source": [
    "#### Формулировка гипотез:\n",
    "- *Нулевая гипотеза* ${H_{0}}$: среднее количество заказов на посетителя групп А и B равно друг другу; \n",
    "- *Альтернативная гипотеза* ${H_{1}}$: среднее количество заказов на посетителя групп А и B различно; "
   ]
  },
  {
   "cell_type": "code",
   "execution_count": 33,
   "metadata": {},
   "outputs": [
    {
     "name": "stdout",
     "output_type": "stream",
     "text": [
      "Значение p-value: 0.0110181\n",
      "Отвергаем нулевую гипотезу\n",
      "Относительный прирост среднего кол-ва заказов на пользователя группы  B над группой А составил: 15.98%\n"
     ]
    }
   ],
   "source": [
    "# Выполним расчёт критерия Манна-Уитни:\n",
    "alpha = 0.05\n",
    "print('Значение p-value: {:.7f}'.format(st.mannwhitneyu(sampleA, sampleB)[1]))\n",
    "\n",
    "if st.mannwhitneyu(sampleA, sampleB)[1] < alpha:\n",
    "    print(\"Отвергаем нулевую гипотезу\")\n",
    "    print('Относительный прирост среднего кол-ва заказов на пользователя группы  B над группой А составил: {:.2%}'.format(sampleB.mean() / sampleA.mean() - 1))\n",
    "else:\n",
    "    print(\"Не получилось отвергнуть нулевую гипотезу\")"
   ]
  },
  {
   "cell_type": "markdown",
   "metadata": {},
   "source": [
    "#### Анализ стат. теста Манна-Уитни на сырых данных:\n",
    "- Нулевую гипотезу о равенстве среднего количества заказов на пользователях в группах A и B отвергаем;\n",
    "- Относительный прирост среднего кол-ва заказов на пользователя группы  B над группой А составил: 15.98%;\n",
    "- К полученным результатам необходимо относиться настороженно, так как в данных присутствовали выбросы;"
   ]
  },
  {
   "cell_type": "markdown",
   "metadata": {},
   "source": [
    "### 4.11 Расчёт статистической значимости различий в среднем чеке заказа между группами по «сырым» данным."
   ]
  },
  {
   "cell_type": "markdown",
   "metadata": {},
   "source": [
    "#### Формулировка гипотез:\n",
    "- *Нулевая гипотеза* ${H_{0}}$: средние чеки заказов для групп А и B равны друг другу; \n",
    "- *Альтернативная гипотеза* ${H_{1}}$: средние чеки заказов для групп А и B различны; "
   ]
  },
  {
   "cell_type": "code",
   "execution_count": 34,
   "metadata": {},
   "outputs": [
    {
     "name": "stdout",
     "output_type": "stream",
     "text": [
      "Значение p-value: 0.8294909\n",
      "Не получилось отвергнуть нулевую гипотезу\n",
      "Относительный прирост среднего чека группы  B над группой А составил: 15.98%\n"
     ]
    }
   ],
   "source": [
    "# Выполним расчёт критерия Манна-Уитни:\n",
    "print('Значение p-value: {:.7f}'.format(st.mannwhitneyu(orders.query('group == \"A\"')['revenue'], orders.query('group == \"B\"')['revenue'])[1]))\n",
    "\n",
    "if st.mannwhitneyu(orders.query('group == \"A\"')['revenue'], orders.query('group == \"B\"')['revenue'])[1] < alpha:\n",
    "    print(\"Отвергаем нулевую гипотезу\")\n",
    "else:\n",
    "    print(\"Не получилось отвергнуть нулевую гипотезу\")\n",
    "    \n",
    "print('Относительный прирост среднего чека группы  B над группой А составил: {:.2%}'.format(sampleB.mean() / sampleA.mean() - 1))"
   ]
  },
  {
   "cell_type": "markdown",
   "metadata": {},
   "source": [
    "##### Анализ стат. теста:\n",
    "- p_value получился очень большим, следовательно мы не может отвергнуть нулевую гипотезу."
   ]
  },
  {
   "cell_type": "markdown",
   "metadata": {},
   "source": [
    "<div class=\"alert alert-info\">  Исправил.</div>"
   ]
  },
  {
   "cell_type": "markdown",
   "metadata": {},
   "source": [
    "### 4.12 Расчёт статистической значимости различий в среднем количестве заказов на посетителя между группами по «очищенным» данным."
   ]
  },
  {
   "cell_type": "code",
   "execution_count": 35,
   "metadata": {},
   "outputs": [],
   "source": [
    "# Составим список аномальных пользователей:\n",
    "abnormal_users = orders_scatter.query('transaction_id > 2')['visitor_id']\n",
    "abnormal_users = (pd.concat([abnormal_users, orders.query('revenue > 28000')['visitor_id']])\n",
    "                      .drop_duplicates()\n",
    "                 )"
   ]
  },
  {
   "cell_type": "code",
   "execution_count": 36,
   "metadata": {},
   "outputs": [],
   "source": [
    "# Выполним очистку данных:\n",
    "orders_cleaned = orders[np.logical_not(orders['visitor_id'].isin(abnormal_users))]"
   ]
  },
  {
   "cell_type": "code",
   "execution_count": 37,
   "metadata": {},
   "outputs": [],
   "source": [
    "# Считаем для каждой группы количество заказов,\n",
    "# которые совершил каждый уникальный пользователь:\n",
    "sampleA = (orders_cleaned.query('group == \"A\"')\n",
    "                 .groupby('visitor_id', as_index = False)\n",
    "                 .agg({'transaction_id' : 'nunique'})\n",
    "          )\n",
    "\n",
    "sampleB = (orders_cleaned.query('group == \"B\"')\n",
    "                 .groupby('visitor_id', as_index = False)\n",
    "                 .agg({'transaction_id' : 'nunique'})\n",
    "          )"
   ]
  },
  {
   "cell_type": "code",
   "execution_count": 38,
   "metadata": {},
   "outputs": [],
   "source": [
    "# Собираем серию из пользователей, которые совершили хотя бы один заказ,\n",
    "# c теми кто ни разу не совершал покупку (с учетом аномальных пользователей): \n",
    "sampleA = pd.concat([sampleA['transaction_id'], pd.Series(0, index = np.arange(visitors.query('group == \"A\"')['visitors'].sum() - sampleA['visitor_id'].nunique() - len(abnormal_users)))])\n",
    "sampleB = pd.concat([sampleB['transaction_id'], pd.Series(0, index = np.arange(visitors.query('group == \"B\"')['visitors'].sum() - sampleB['visitor_id'].nunique() - len(abnormal_users)))])"
   ]
  },
  {
   "cell_type": "markdown",
   "metadata": {},
   "source": [
    "#### Формулировка гипотез:\n",
    "- *Нулевая гипотеза* ${H_{0}}$: среднее количество заказов на посетителя групп А и B равно друг другу; \n",
    "- *Альтернативная гипотеза* ${H_{1}}$: среднее количество заказов на посетителя групп А и B различно; "
   ]
  },
  {
   "cell_type": "code",
   "execution_count": 39,
   "metadata": {},
   "outputs": [
    {
     "name": "stdout",
     "output_type": "stream",
     "text": [
      "Значение p-value: 0.0094804\n",
      "Отвергаем нулевую гипотезу\n",
      "Относительный прирост среднего кол-ва заказов на пользователя группы  B над группой А составил: 18.85%\n"
     ]
    }
   ],
   "source": [
    "# Выполним расчёт критерия Манна-Уитни:\n",
    "alpha = 0.05\n",
    "print('Значение p-value: {:.7f}'.format(st.mannwhitneyu(sampleA, sampleB)[1]))\n",
    "\n",
    "if st.mannwhitneyu(sampleA, sampleB)[1] < alpha:\n",
    "    print(\"Отвергаем нулевую гипотезу\")\n",
    "    print('Относительный прирост среднего кол-ва заказов на пользователя группы  B над группой А составил: {:.2%}'.format(sampleB.mean() / sampleA.mean() - 1))\n",
    "else:\n",
    "    print(\"Не получилось отвергнуть нулевую гипотезу\")"
   ]
  },
  {
   "cell_type": "markdown",
   "metadata": {},
   "source": [
    "#### Анализ результатов стат. теста Манна-Уитни:\n",
    "- Результат теста на очищенных данных не изменился: отвергаем нулевую гипотезу.\n",
    "- Относительный прирост среднего кол-ва заказов на пользователя группы  B над группой А составил: 18.85% (15,98% на неочищенных данных)."
   ]
  },
  {
   "cell_type": "markdown",
   "metadata": {},
   "source": [
    "### 4.13 Посчитайте статистическую значимость различий в среднем чеке заказа между группами по «очищенным» данным. Сделайте выводы и предположения."
   ]
  },
  {
   "cell_type": "markdown",
   "metadata": {},
   "source": [
    "#### Формулировка гипотез:\n",
    "- *Нулевая гипотеза* ${H_{0}}$: средние чеки заказов для групп А и B равны друг другу; \n",
    "- *Альтернативная гипотеза* ${H_{1}}$: средние чеки заказов для групп А и B различны; "
   ]
  },
  {
   "cell_type": "code",
   "execution_count": 40,
   "metadata": {},
   "outputs": [
    {
     "name": "stdout",
     "output_type": "stream",
     "text": [
      "Значение p-value: 0.7616881\n",
      "Не получилось отвергнуть нулевую гипотезу\n",
      "Относительный прирост среднего чека группы  B над группой А составил: -2.24%\n"
     ]
    }
   ],
   "source": [
    "# Выполним расчёт критерия Манна-Уитни:\n",
    "print('Значение p-value: {:.7f}'.format(st.mannwhitneyu(orders_cleaned.query('group == \"A\"')['revenue'], orders_cleaned.query('group == \"B\"')['revenue'])[1]))\n",
    "\n",
    "if st.mannwhitneyu(orders_cleaned.query('group == \"A\"')['revenue'], orders_cleaned.query('group == \"B\"')['revenue'])[1] < alpha:\n",
    "    print(\"Отвергаем нулевую гипотезу\")\n",
    "    \n",
    "else:\n",
    "    print(\"Не получилось отвергнуть нулевую гипотезу\")\n",
    "\n",
    "print('Относительный прирост среднего чека группы  B над группой А составил: {:.2%}'.format(orders_cleaned.query('group == \"B\"')['revenue'].mean() / orders_cleaned.query('group == \"A\"')['revenue'].mean() - 1))    "
   ]
  },
  {
   "cell_type": "markdown",
   "metadata": {},
   "source": [
    "#### Анализ результатов стат. теста Манна-Уитни:\n",
    "- Результат теста на очищенных данных не изменился: не удалось отвергнуть нулевую гипотезу."
   ]
  },
  {
   "cell_type": "markdown",
   "metadata": {},
   "source": [
    "## Итоговый вывод:"
   ]
  },
  {
   "cell_type": "markdown",
   "metadata": {},
   "source": [
    "В начале исследования, нам необходимо было выбрать одну из девяти перспективных гипотез, которые были подготовлены совместно с отделом маркетинга, для проведения A/B теста.\n",
    "\n",
    "Гипотезы приоретизировались исходя из поставленной цели - увеличение выручки компании. Для ранжирования гипотез мы обратились к двум фреймворкам приоритизации гипотез - ICE и RICE.\n",
    "\n",
    "В итоге мы отдали предпочтение фреймворку RICE, тк в отличии от ICE он учитывает охват пользователей, тем самым более точно ранжируя гипотезы под нашу задачу. Победителем стала следующая гипотеза: \n",
    "\n",
    "**«Добавить форму подписки на все основные страницы, чтобы собрать базу клиентов для email-рассылок.»**\n",
    "\n",
    "По результатам A/B теста были получены следующие выводы:\n",
    "- Кумулятивная выручка группы B больше кумулятивной выручки группы А;\n",
    "- Кумулятивный средний чек группы B больше кумулятивного среднего чека группы А;\n",
    "- Кумулятивное среднее количество заказов на пользователя в группе B больше такого же показателя в группе А;\n",
    "\n",
    "После была проведена проверка полученных результатов на статистическую значимость. Были получены следующие результаты:\n",
    "-  Статистически значимых различий в среднем чеке между группами нет, как на обычных данных, так и на данных, избавленных от аномалий;\n",
    "- Утверждение о том, что кумулятивное среднее количество заказов на пользователя в группе B больше такого же показателя в группе А статистически значимо. Это было показано как на обычных данных, так и на данных, очищенных от аномалий.\n",
    "\n",
    "Итого, мы можем принять решение об остановке теста. Группа B победила, **следует принять проверяемую гипотезу**."
   ]
  }
 ],
 "metadata": {
  "ExecuteTimeLog": [
   {
    "duration": 1356,
    "start_time": "2023-01-07T09:05:04.564Z"
   },
   {
    "duration": 332,
    "start_time": "2023-01-07T09:05:05.922Z"
   },
   {
    "duration": 35,
    "start_time": "2023-01-07T09:05:06.256Z"
   },
   {
    "duration": 58,
    "start_time": "2023-01-07T09:05:06.294Z"
   },
   {
    "duration": 88,
    "start_time": "2023-01-07T09:05:06.355Z"
   },
   {
    "duration": 61,
    "start_time": "2023-01-07T09:05:06.444Z"
   },
   {
    "duration": 89,
    "start_time": "2023-01-07T09:05:06.507Z"
   },
   {
    "duration": 9,
    "start_time": "2023-01-07T09:05:06.600Z"
   },
   {
    "duration": 98,
    "start_time": "2023-01-07T09:05:06.611Z"
   },
   {
    "duration": 45,
    "start_time": "2023-01-07T09:05:06.711Z"
   },
   {
    "duration": 88,
    "start_time": "2023-01-07T09:05:06.758Z"
   },
   {
    "duration": 70,
    "start_time": "2023-01-07T09:05:06.848Z"
   },
   {
    "duration": 76,
    "start_time": "2023-01-07T09:05:06.919Z"
   },
   {
    "duration": 67,
    "start_time": "2023-01-07T09:05:07.009Z"
   },
   {
    "duration": 105,
    "start_time": "2023-01-07T09:05:07.078Z"
   },
   {
    "duration": 262,
    "start_time": "2023-01-07T09:05:07.186Z"
   },
   {
    "duration": 444,
    "start_time": "2023-01-07T09:05:07.450Z"
   },
   {
    "duration": 317,
    "start_time": "2023-01-07T09:05:07.902Z"
   },
   {
    "duration": 11,
    "start_time": "2023-01-07T09:05:08.221Z"
   },
   {
    "duration": 535,
    "start_time": "2023-01-07T09:05:08.242Z"
   },
   {
    "duration": 173,
    "start_time": "2023-01-07T09:05:08.786Z"
   },
   {
    "duration": 347,
    "start_time": "2023-01-07T09:05:08.962Z"
   },
   {
    "duration": 10,
    "start_time": "2023-01-07T09:05:09.311Z"
   },
   {
    "duration": 423,
    "start_time": "2023-01-07T09:05:09.323Z"
   },
   {
    "duration": 12,
    "start_time": "2023-01-07T09:05:09.754Z"
   },
   {
    "duration": 300,
    "start_time": "2023-01-07T09:05:09.768Z"
   },
   {
    "duration": 5,
    "start_time": "2023-01-07T09:05:10.070Z"
   },
   {
    "duration": 275,
    "start_time": "2023-01-07T09:05:10.077Z"
   },
   {
    "duration": 244,
    "start_time": "2023-01-07T09:05:10.357Z"
   },
   {
    "duration": 7,
    "start_time": "2023-01-07T09:05:10.607Z"
   },
   {
    "duration": 110,
    "start_time": "2023-01-07T09:05:10.617Z"
   },
   {
    "duration": 25,
    "start_time": "2023-01-07T09:05:10.729Z"
   },
   {
    "duration": 129,
    "start_time": "2023-01-07T09:05:10.756Z"
   },
   {
    "duration": 28,
    "start_time": "2023-01-07T09:05:10.887Z"
   },
   {
    "duration": 14,
    "start_time": "2023-01-07T09:05:10.918Z"
   },
   {
    "duration": 86,
    "start_time": "2023-01-07T09:05:10.934Z"
   },
   {
    "duration": 108,
    "start_time": "2023-01-07T09:05:11.021Z"
   },
   {
    "duration": 86,
    "start_time": "2023-01-07T09:05:11.131Z"
   },
   {
    "duration": 132,
    "start_time": "2023-01-07T09:05:11.219Z"
   },
   {
    "duration": 29,
    "start_time": "2023-01-07T09:05:11.357Z"
   },
   {
    "duration": 45,
    "start_time": "2023-01-07T09:56:50.347Z"
   },
   {
    "duration": 1178,
    "start_time": "2023-01-07T09:56:57.080Z"
   },
   {
    "duration": 207,
    "start_time": "2023-01-07T09:56:58.260Z"
   },
   {
    "duration": 20,
    "start_time": "2023-01-07T09:56:58.469Z"
   },
   {
    "duration": 27,
    "start_time": "2023-01-07T09:56:58.491Z"
   },
   {
    "duration": 37,
    "start_time": "2023-01-07T09:56:58.519Z"
   },
   {
    "duration": 4,
    "start_time": "2023-01-07T09:56:58.557Z"
   },
   {
    "duration": 41,
    "start_time": "2023-01-07T09:56:58.562Z"
   },
   {
    "duration": 2,
    "start_time": "2023-01-07T09:56:58.604Z"
   },
   {
    "duration": 9,
    "start_time": "2023-01-07T09:56:58.608Z"
   },
   {
    "duration": 21,
    "start_time": "2023-01-07T09:56:58.620Z"
   },
   {
    "duration": 14,
    "start_time": "2023-01-07T09:56:58.643Z"
   },
   {
    "duration": 3,
    "start_time": "2023-01-07T09:56:58.659Z"
   },
   {
    "duration": 33,
    "start_time": "2023-01-07T09:56:58.664Z"
   },
   {
    "duration": 11,
    "start_time": "2023-01-07T09:56:58.699Z"
   },
   {
    "duration": 10,
    "start_time": "2023-01-07T09:56:58.712Z"
   },
   {
    "duration": 164,
    "start_time": "2023-01-07T09:56:58.724Z"
   },
   {
    "duration": 277,
    "start_time": "2023-01-07T09:56:58.889Z"
   },
   {
    "duration": 216,
    "start_time": "2023-01-07T09:56:59.167Z"
   },
   {
    "duration": 14,
    "start_time": "2023-01-07T09:56:59.384Z"
   },
   {
    "duration": 345,
    "start_time": "2023-01-07T09:56:59.400Z"
   },
   {
    "duration": 114,
    "start_time": "2023-01-07T09:56:59.747Z"
   },
   {
    "duration": 253,
    "start_time": "2023-01-07T09:56:59.862Z"
   },
   {
    "duration": 10,
    "start_time": "2023-01-07T09:57:00.116Z"
   },
   {
    "duration": 327,
    "start_time": "2023-01-07T09:57:00.127Z"
   },
   {
    "duration": 6,
    "start_time": "2023-01-07T09:57:00.456Z"
   },
   {
    "duration": 209,
    "start_time": "2023-01-07T09:57:00.464Z"
   },
   {
    "duration": 4,
    "start_time": "2023-01-07T09:57:00.675Z"
   },
   {
    "duration": 207,
    "start_time": "2023-01-07T09:57:00.682Z"
   },
   {
    "duration": 155,
    "start_time": "2023-01-07T09:57:00.890Z"
   },
   {
    "duration": 4,
    "start_time": "2023-01-07T09:57:01.047Z"
   },
   {
    "duration": 38,
    "start_time": "2023-01-07T09:57:01.053Z"
   },
   {
    "duration": 39,
    "start_time": "2023-01-07T09:57:01.092Z"
   },
   {
    "duration": 67,
    "start_time": "2023-01-07T09:57:01.132Z"
   },
   {
    "duration": 19,
    "start_time": "2023-01-07T09:57:01.201Z"
   },
   {
    "duration": 32,
    "start_time": "2023-01-07T09:57:01.222Z"
   },
   {
    "duration": 32,
    "start_time": "2023-01-07T09:57:01.256Z"
   },
   {
    "duration": 87,
    "start_time": "2023-01-07T09:57:01.289Z"
   },
   {
    "duration": 15,
    "start_time": "2023-01-07T09:57:01.377Z"
   },
   {
    "duration": 43,
    "start_time": "2023-01-07T09:57:01.393Z"
   },
   {
    "duration": 15,
    "start_time": "2023-01-07T09:57:01.437Z"
   },
   {
    "duration": 3,
    "start_time": "2023-01-07T10:00:05.367Z"
   },
   {
    "duration": 4,
    "start_time": "2023-01-07T10:00:22.050Z"
   },
   {
    "duration": 15,
    "start_time": "2023-01-07T10:00:52.711Z"
   },
   {
    "duration": 1030,
    "start_time": "2023-01-07T10:01:07.509Z"
   },
   {
    "duration": 115,
    "start_time": "2023-01-07T10:01:08.540Z"
   },
   {
    "duration": 18,
    "start_time": "2023-01-07T10:01:08.657Z"
   },
   {
    "duration": 25,
    "start_time": "2023-01-07T10:01:08.676Z"
   },
   {
    "duration": 37,
    "start_time": "2023-01-07T10:01:08.703Z"
   },
   {
    "duration": 3,
    "start_time": "2023-01-07T10:01:08.741Z"
   },
   {
    "duration": 12,
    "start_time": "2023-01-07T10:01:08.745Z"
   },
   {
    "duration": 2,
    "start_time": "2023-01-07T10:01:08.759Z"
   },
   {
    "duration": 38,
    "start_time": "2023-01-07T10:01:08.763Z"
   },
   {
    "duration": 12,
    "start_time": "2023-01-07T10:01:08.802Z"
   },
   {
    "duration": 16,
    "start_time": "2023-01-07T10:01:08.815Z"
   },
   {
    "duration": 3,
    "start_time": "2023-01-07T10:01:08.832Z"
   },
   {
    "duration": 10,
    "start_time": "2023-01-07T10:01:08.837Z"
   },
   {
    "duration": 9,
    "start_time": "2023-01-07T10:01:08.850Z"
   },
   {
    "duration": 36,
    "start_time": "2023-01-07T10:01:08.861Z"
   },
   {
    "duration": 151,
    "start_time": "2023-01-07T10:01:08.899Z"
   },
   {
    "duration": 277,
    "start_time": "2023-01-07T10:01:09.052Z"
   },
   {
    "duration": 213,
    "start_time": "2023-01-07T10:01:09.331Z"
   },
   {
    "duration": 9,
    "start_time": "2023-01-07T10:01:09.545Z"
   },
   {
    "duration": 291,
    "start_time": "2023-01-07T10:01:09.555Z"
   },
   {
    "duration": 111,
    "start_time": "2023-01-07T10:01:09.848Z"
   },
   {
    "duration": 239,
    "start_time": "2023-01-07T10:01:09.961Z"
   },
   {
    "duration": 9,
    "start_time": "2023-01-07T10:01:10.202Z"
   },
   {
    "duration": 322,
    "start_time": "2023-01-07T10:01:10.213Z"
   },
   {
    "duration": 6,
    "start_time": "2023-01-07T10:01:10.537Z"
   },
   {
    "duration": 180,
    "start_time": "2023-01-07T10:01:10.545Z"
   },
   {
    "duration": 4,
    "start_time": "2023-01-07T10:01:10.727Z"
   },
   {
    "duration": 165,
    "start_time": "2023-01-07T10:01:10.732Z"
   },
   {
    "duration": 148,
    "start_time": "2023-01-07T10:01:10.899Z"
   },
   {
    "duration": 4,
    "start_time": "2023-01-07T10:01:11.049Z"
   },
   {
    "duration": 14,
    "start_time": "2023-01-07T10:01:11.054Z"
   },
   {
    "duration": 9,
    "start_time": "2023-01-07T10:01:11.069Z"
   },
   {
    "duration": 55,
    "start_time": "2023-01-07T10:01:11.079Z"
   },
   {
    "duration": 14,
    "start_time": "2023-01-07T10:01:11.135Z"
   },
   {
    "duration": 12,
    "start_time": "2023-01-07T10:01:11.150Z"
   },
   {
    "duration": 5,
    "start_time": "2023-01-07T10:01:11.163Z"
   },
   {
    "duration": 87,
    "start_time": "2023-01-07T10:01:11.170Z"
   },
   {
    "duration": 15,
    "start_time": "2023-01-07T10:01:11.258Z"
   },
   {
    "duration": 48,
    "start_time": "2023-01-07T10:01:11.275Z"
   },
   {
    "duration": 15,
    "start_time": "2023-01-07T10:01:11.324Z"
   },
   {
    "duration": 1341,
    "start_time": "2023-01-07T11:28:33.075Z"
   },
   {
    "duration": 221,
    "start_time": "2023-01-07T11:28:34.418Z"
   },
   {
    "duration": 22,
    "start_time": "2023-01-07T11:28:34.641Z"
   },
   {
    "duration": 37,
    "start_time": "2023-01-07T11:28:34.666Z"
   },
   {
    "duration": 48,
    "start_time": "2023-01-07T11:28:34.705Z"
   },
   {
    "duration": 26,
    "start_time": "2023-01-07T11:28:34.755Z"
   },
   {
    "duration": 47,
    "start_time": "2023-01-07T11:28:34.783Z"
   },
   {
    "duration": 13,
    "start_time": "2023-01-07T11:28:34.831Z"
   },
   {
    "duration": 39,
    "start_time": "2023-01-07T11:28:34.845Z"
   },
   {
    "duration": 36,
    "start_time": "2023-01-07T11:28:34.887Z"
   },
   {
    "duration": 43,
    "start_time": "2023-01-07T11:28:34.925Z"
   },
   {
    "duration": 21,
    "start_time": "2023-01-07T11:28:34.970Z"
   },
   {
    "duration": 35,
    "start_time": "2023-01-07T11:28:34.993Z"
   },
   {
    "duration": 19,
    "start_time": "2023-01-07T11:28:35.030Z"
   },
   {
    "duration": 30,
    "start_time": "2023-01-07T11:28:35.050Z"
   },
   {
    "duration": 218,
    "start_time": "2023-01-07T11:28:35.082Z"
   },
   {
    "duration": 324,
    "start_time": "2023-01-07T11:28:35.302Z"
   },
   {
    "duration": 295,
    "start_time": "2023-01-07T11:28:35.628Z"
   },
   {
    "duration": 10,
    "start_time": "2023-01-07T11:28:35.924Z"
   },
   {
    "duration": 401,
    "start_time": "2023-01-07T11:28:35.936Z"
   },
   {
    "duration": 142,
    "start_time": "2023-01-07T11:28:36.338Z"
   },
   {
    "duration": 226,
    "start_time": "2023-01-07T11:28:36.481Z"
   },
   {
    "duration": 9,
    "start_time": "2023-01-07T11:28:36.709Z"
   },
   {
    "duration": 349,
    "start_time": "2023-01-07T11:28:36.720Z"
   },
   {
    "duration": 10,
    "start_time": "2023-01-07T11:28:37.071Z"
   },
   {
    "duration": 202,
    "start_time": "2023-01-07T11:28:37.083Z"
   },
   {
    "duration": 4,
    "start_time": "2023-01-07T11:28:37.287Z"
   },
   {
    "duration": 173,
    "start_time": "2023-01-07T11:28:37.294Z"
   },
   {
    "duration": 162,
    "start_time": "2023-01-07T11:28:37.470Z"
   },
   {
    "duration": 4,
    "start_time": "2023-01-07T11:28:37.634Z"
   },
   {
    "duration": 36,
    "start_time": "2023-01-07T11:28:37.640Z"
   },
   {
    "duration": 22,
    "start_time": "2023-01-07T11:28:37.678Z"
   },
   {
    "duration": 50,
    "start_time": "2023-01-07T11:28:37.701Z"
   },
   {
    "duration": 17,
    "start_time": "2023-01-07T11:28:37.753Z"
   },
   {
    "duration": 15,
    "start_time": "2023-01-07T11:28:37.771Z"
   },
   {
    "duration": 13,
    "start_time": "2023-01-07T11:28:37.787Z"
   },
   {
    "duration": 85,
    "start_time": "2023-01-07T11:28:37.802Z"
   },
   {
    "duration": 28,
    "start_time": "2023-01-07T11:28:37.888Z"
   },
   {
    "duration": 44,
    "start_time": "2023-01-07T11:28:37.917Z"
   },
   {
    "duration": 20,
    "start_time": "2023-01-07T11:28:37.963Z"
   },
   {
    "duration": 1033,
    "start_time": "2023-01-07T11:31:00.586Z"
   },
   {
    "duration": 109,
    "start_time": "2023-01-07T11:31:01.621Z"
   },
   {
    "duration": 19,
    "start_time": "2023-01-07T11:31:01.732Z"
   },
   {
    "duration": 49,
    "start_time": "2023-01-07T11:31:01.752Z"
   },
   {
    "duration": 39,
    "start_time": "2023-01-07T11:31:01.803Z"
   },
   {
    "duration": 3,
    "start_time": "2023-01-07T11:31:01.844Z"
   },
   {
    "duration": 38,
    "start_time": "2023-01-07T11:31:01.849Z"
   },
   {
    "duration": 6,
    "start_time": "2023-01-07T11:31:01.888Z"
   },
   {
    "duration": 19,
    "start_time": "2023-01-07T11:31:01.896Z"
   },
   {
    "duration": 15,
    "start_time": "2023-01-07T11:31:01.917Z"
   },
   {
    "duration": 15,
    "start_time": "2023-01-07T11:31:01.934Z"
   },
   {
    "duration": 28,
    "start_time": "2023-01-07T11:31:01.951Z"
   },
   {
    "duration": 19,
    "start_time": "2023-01-07T11:31:01.981Z"
   },
   {
    "duration": 26,
    "start_time": "2023-01-07T11:31:02.003Z"
   },
   {
    "duration": 16,
    "start_time": "2023-01-07T11:31:02.031Z"
   },
   {
    "duration": 167,
    "start_time": "2023-01-07T11:31:02.049Z"
   },
   {
    "duration": 281,
    "start_time": "2023-01-07T11:31:02.218Z"
   },
   {
    "duration": 217,
    "start_time": "2023-01-07T11:31:02.501Z"
   },
   {
    "duration": 9,
    "start_time": "2023-01-07T11:31:02.720Z"
   },
   {
    "duration": 325,
    "start_time": "2023-01-07T11:31:02.730Z"
   },
   {
    "duration": 134,
    "start_time": "2023-01-07T11:31:03.056Z"
   },
   {
    "duration": 220,
    "start_time": "2023-01-07T11:31:03.192Z"
   },
   {
    "duration": 9,
    "start_time": "2023-01-07T11:31:03.414Z"
   },
   {
    "duration": 307,
    "start_time": "2023-01-07T11:31:03.424Z"
   },
   {
    "duration": 6,
    "start_time": "2023-01-07T11:31:03.733Z"
   },
   {
    "duration": 181,
    "start_time": "2023-01-07T11:31:03.741Z"
   },
   {
    "duration": 5,
    "start_time": "2023-01-07T11:31:03.926Z"
   },
   {
    "duration": 206,
    "start_time": "2023-01-07T11:31:03.933Z"
   },
   {
    "duration": 185,
    "start_time": "2023-01-07T11:31:04.140Z"
   },
   {
    "duration": 4,
    "start_time": "2023-01-07T11:31:04.326Z"
   },
   {
    "duration": 21,
    "start_time": "2023-01-07T11:31:04.331Z"
   },
   {
    "duration": 26,
    "start_time": "2023-01-07T11:31:04.354Z"
   },
   {
    "duration": 40,
    "start_time": "2023-01-07T11:31:04.382Z"
   },
   {
    "duration": 17,
    "start_time": "2023-01-07T11:31:04.423Z"
   },
   {
    "duration": 7,
    "start_time": "2023-01-07T11:31:04.442Z"
   },
   {
    "duration": 28,
    "start_time": "2023-01-07T11:31:04.451Z"
   },
   {
    "duration": 82,
    "start_time": "2023-01-07T11:31:04.480Z"
   },
   {
    "duration": 18,
    "start_time": "2023-01-07T11:31:04.564Z"
   },
   {
    "duration": 36,
    "start_time": "2023-01-07T11:31:04.583Z"
   },
   {
    "duration": 20,
    "start_time": "2023-01-07T11:31:04.621Z"
   }
  ],
  "kernelspec": {
   "display_name": "Python 3 (ipykernel)",
   "language": "python",
   "name": "python3"
  },
  "language_info": {
   "codemirror_mode": {
    "name": "ipython",
    "version": 3
   },
   "file_extension": ".py",
   "mimetype": "text/x-python",
   "name": "python",
   "nbconvert_exporter": "python",
   "pygments_lexer": "ipython3",
   "version": "3.9.5"
  },
  "toc": {
   "base_numbering": 1,
   "nav_menu": {},
   "number_sections": true,
   "sideBar": true,
   "skip_h1_title": true,
   "title_cell": "Table of Contents",
   "title_sidebar": "Contents",
   "toc_cell": false,
   "toc_position": {},
   "toc_section_display": true,
   "toc_window_display": false
  }
 },
 "nbformat": 4,
 "nbformat_minor": 4
}
